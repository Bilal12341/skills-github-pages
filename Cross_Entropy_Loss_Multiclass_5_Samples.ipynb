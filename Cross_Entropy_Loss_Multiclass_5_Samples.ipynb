{
  "cells": [
    {
      "cell_type": "code",
      "execution_count": 7,
      "metadata": {
        "colab": {
          "base_uri": "https://localhost:8080/"
        },
        "id": "QcRtynLDYCOJ",
        "outputId": "7eb4d651-f9c0-43e0-a0a9-52802a0b1a42"
      },
      "outputs": [
        {
          "output_type": "stream",
          "name": "stdout",
          "text": [
            "Softmax Probabilities:\n",
            " [[0.15872181 0.05839049 0.0237398  0.71134181 0.04780609]\n",
            " [0.05405511 0.39941624 0.04004501 0.17946928 0.32701436]\n",
            " [0.01296966 0.01433369 0.23571254 0.70811959 0.02886452]\n",
            " [0.07120583 0.14339092 0.03199484 0.71021989 0.04318852]\n",
            " [0.55577674 0.06805843 0.03379682 0.30501674 0.03735126]]\n",
            "\n",
            "Log of Softmax Probabilities:\n",
            " [[-1.84060223 -2.84060223 -3.74060223 -0.34060223 -3.04060223]\n",
            " [-2.9177512  -0.9177512  -3.2177512  -1.7177512  -1.1177512 ]\n",
            " [-4.34514228 -4.24514228 -1.44514228 -0.34514228 -3.54514228]\n",
            " [-2.64218065 -1.94218065 -3.44218065 -0.34218065 -3.14218065]\n",
            " [-0.58738861 -2.68738861 -3.38738861 -1.18738861 -3.28738861]]\n",
            "\n",
            "y_true * log(probs):\n",
            " [[-1.84060223 -0.         -0.         -0.         -0.        ]\n",
            " [-0.         -0.9177512  -0.         -0.         -0.        ]\n",
            " [-0.         -0.         -1.44514228 -0.         -0.        ]\n",
            " [-0.         -0.         -0.         -0.34218065 -0.        ]\n",
            " [-0.         -0.         -0.         -0.         -3.28738861]]\n",
            "\n",
            "CE Loss per Sample: [1.84060223 0.9177512  1.44514228 0.34218065 3.28738861]\n",
            "\n",
            "Average CE Loss for the Dataset: 1.5666129933381103\n"
          ]
        }
      ],
      "source": [
        "\n",
        "import numpy as np\n",
        "\n",
        "# Ground truth labels (one-hot encoded)\n",
        "y_true = np.array([\n",
        "    [1, 0, 0, 0, 0],  # Sample 1: Class 1\n",
        "    [0, 1, 0, 0, 0],  # Sample 2: Class 2\n",
        "    [0, 0, 1, 0, 0],  # Sample 3: Class 3\n",
        "    [0, 0, 0, 1, 0],  # Sample 4: Class 4\n",
        "    [0, 0, 0, 0, 1]   # Sample 5: Class 5\n",
        "])\n",
        "\n",
        "# Model predictions (logits)\n",
        "logits = np.array([\n",
        "    [2.0, 1.0, 0.1, 3.5, 0.8],  # Sample 1\n",
        "    [0.5, 2.5, 0.2, 1.7, 2.3],  # Sample 2\n",
        "    [0.1, 0.2, 3.0, 4.1, 0.9],  # Sample 3\n",
        "    [1.5, 2.2, 0.7, 3.8, 1.0],  # Sample 4\n",
        "    [3.2, 1.1, 0.4, 2.6, 0.5]   # Sample 5\n",
        "])\n",
        "\n",
        "# Softmax function\n",
        "def softmax(x):\n",
        "    exp_x = np.exp(x - np.max(x, axis=-1, keepdims=True))  # Numerical stability\n",
        "    return exp_x / np.sum(exp_x, axis=-1, keepdims=True)\n",
        "\n",
        "# Compute softmax probabilities\n",
        "probs = softmax(logits)\n",
        "print(\"Softmax Probabilities:\\n\", probs)\n",
        "\n",
        "# Compute log(probs)\n",
        "log_probs = np.log(probs)\n",
        "print(\"\\nLog of Softmax Probabilities:\\n\", log_probs)\n",
        "\n",
        "# Compute y_true * log(probs)\n",
        "y_true_log_probs = y_true * log_probs\n",
        "print(\"\\ny_true * log(probs):\\n\", y_true_log_probs)\n",
        "\n",
        "# Compute CE loss for each sample\n",
        "ce_loss = -np.sum(y_true_log_probs, axis=-1)\n",
        "print(\"\\nCE Loss per Sample:\", ce_loss)\n",
        "\n",
        "# Average CE loss for the dataset\n",
        "avg_ce_loss = np.mean(ce_loss)\n",
        "print(\"\\nAverage CE Loss for the Dataset:\", avg_ce_loss)"
      ]
    }
  ],
  "metadata": {
    "colab": {
      "provenance": []
    },
    "kernelspec": {
      "display_name": "Python 3 (ipykernel)",
      "language": "python",
      "name": "python3"
    },
    "language_info": {
      "codemirror_mode": {
        "name": "ipython",
        "version": 3
      },
      "file_extension": ".py",
      "mimetype": "text/x-python",
      "name": "python",
      "nbconvert_exporter": "python",
      "pygments_lexer": "ipython3",
      "version": "3.12.4"
    }
  },
  "nbformat": 4,
  "nbformat_minor": 0
}